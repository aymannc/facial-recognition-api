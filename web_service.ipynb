{
  "nbformat": 4,
  "nbformat_minor": 0,
  "metadata": {
    "colab": {
      "name": "web_service",
      "provenance": [],
      "collapsed_sections": [],
      "mount_file_id": "1iW6X_I9mYQ30Y2Zh6IpPCf-jHcW8ZKAG",
      "authorship_tag": "ABX9TyMx/rLAZikhm34mc3rNBXWU",
      "include_colab_link": true
    },
    "kernelspec": {
      "name": "python3",
      "display_name": "Python 3"
    },
    "accelerator": "GPU"
  },
  "cells": [
    {
      "cell_type": "markdown",
      "metadata": {
        "id": "view-in-github",
        "colab_type": "text"
      },
      "source": [
        "<a href=\"https://colab.research.google.com/github/aymannc/facial-recognition-api/blob/master/web_service.ipynb\" target=\"_parent\"><img src=\"https://colab.research.google.com/assets/colab-badge.svg\" alt=\"Open In Colab\"/></a>"
      ]
    },
    {
      "cell_type": "code",
      "metadata": {
        "id": "v-ugr2fBnNTh",
        "colab_type": "code",
        "outputId": "66287867-7747-497e-a54d-f2b9d851bb5d",
        "colab": {
          "base_uri": "https://localhost:8080/",
          "height": 799
        }
      },
      "source": [
        "!pip install flask-ngrok\n",
        "!pip install face_recognition\n",
        "!pip install pathlib\n",
        "!pip install Pillow\n",
        "!pip install opencv-python\n",
        "!pip  install flask-cors"
      ],
      "execution_count": 1,
      "outputs": [
        {
          "output_type": "stream",
          "text": [
            "Collecting flask-ngrok\n",
            "  Downloading https://files.pythonhosted.org/packages/af/6c/f54cb686ad1129e27d125d182f90f52b32f284e6c8df58c1bae54fa1adbc/flask_ngrok-0.0.25-py3-none-any.whl\n",
            "Requirement already satisfied: requests in /usr/local/lib/python3.6/dist-packages (from flask-ngrok) (2.23.0)\n",
            "Requirement already satisfied: Flask>=0.8 in /usr/local/lib/python3.6/dist-packages (from flask-ngrok) (1.1.2)\n",
            "Requirement already satisfied: certifi>=2017.4.17 in /usr/local/lib/python3.6/dist-packages (from requests->flask-ngrok) (2020.4.5.1)\n",
            "Requirement already satisfied: idna<3,>=2.5 in /usr/local/lib/python3.6/dist-packages (from requests->flask-ngrok) (2.9)\n",
            "Requirement already satisfied: urllib3!=1.25.0,!=1.25.1,<1.26,>=1.21.1 in /usr/local/lib/python3.6/dist-packages (from requests->flask-ngrok) (1.24.3)\n",
            "Requirement already satisfied: chardet<4,>=3.0.2 in /usr/local/lib/python3.6/dist-packages (from requests->flask-ngrok) (3.0.4)\n",
            "Requirement already satisfied: itsdangerous>=0.24 in /usr/local/lib/python3.6/dist-packages (from Flask>=0.8->flask-ngrok) (1.1.0)\n",
            "Requirement already satisfied: Werkzeug>=0.15 in /usr/local/lib/python3.6/dist-packages (from Flask>=0.8->flask-ngrok) (1.0.1)\n",
            "Requirement already satisfied: click>=5.1 in /usr/local/lib/python3.6/dist-packages (from Flask>=0.8->flask-ngrok) (7.1.2)\n",
            "Requirement already satisfied: Jinja2>=2.10.1 in /usr/local/lib/python3.6/dist-packages (from Flask>=0.8->flask-ngrok) (2.11.2)\n",
            "Requirement already satisfied: MarkupSafe>=0.23 in /usr/local/lib/python3.6/dist-packages (from Jinja2>=2.10.1->Flask>=0.8->flask-ngrok) (1.1.1)\n",
            "Installing collected packages: flask-ngrok\n",
            "Successfully installed flask-ngrok-0.0.25\n",
            "Collecting face_recognition\n",
            "  Downloading https://files.pythonhosted.org/packages/1e/95/f6c9330f54ab07bfa032bf3715c12455a381083125d8880c43cbe76bb3d0/face_recognition-1.3.0-py2.py3-none-any.whl\n",
            "Requirement already satisfied: dlib>=19.7 in /usr/local/lib/python3.6/dist-packages (from face_recognition) (19.18.0)\n",
            "Collecting face-recognition-models>=0.3.0\n",
            "\u001b[?25l  Downloading https://files.pythonhosted.org/packages/cf/3b/4fd8c534f6c0d1b80ce0973d01331525538045084c73c153ee6df20224cf/face_recognition_models-0.3.0.tar.gz (100.1MB)\n",
            "\u001b[K     |████████████████████████████████| 100.2MB 101kB/s \n",
            "\u001b[?25hRequirement already satisfied: Click>=6.0 in /usr/local/lib/python3.6/dist-packages (from face_recognition) (7.1.2)\n",
            "Requirement already satisfied: Pillow in /usr/local/lib/python3.6/dist-packages (from face_recognition) (7.0.0)\n",
            "Requirement already satisfied: numpy in /usr/local/lib/python3.6/dist-packages (from face_recognition) (1.18.4)\n",
            "Building wheels for collected packages: face-recognition-models\n",
            "  Building wheel for face-recognition-models (setup.py) ... \u001b[?25l\u001b[?25hdone\n",
            "  Created wheel for face-recognition-models: filename=face_recognition_models-0.3.0-py2.py3-none-any.whl size=100566172 sha256=df158f11df2b9ba303dc779994d8c19188b01851fe953bad2122794fe53d8781\n",
            "  Stored in directory: /root/.cache/pip/wheels/d2/99/18/59c6c8f01e39810415c0e63f5bede7d83dfb0ffc039865465f\n",
            "Successfully built face-recognition-models\n",
            "Installing collected packages: face-recognition-models, face-recognition\n",
            "Successfully installed face-recognition-1.3.0 face-recognition-models-0.3.0\n",
            "Requirement already satisfied: pathlib in /usr/local/lib/python3.6/dist-packages (1.0.1)\n",
            "Requirement already satisfied: Pillow in /usr/local/lib/python3.6/dist-packages (7.0.0)\n",
            "Requirement already satisfied: opencv-python in /usr/local/lib/python3.6/dist-packages (4.1.2.30)\n",
            "Requirement already satisfied: numpy>=1.11.3 in /usr/local/lib/python3.6/dist-packages (from opencv-python) (1.18.4)\n",
            "Collecting flask-cors\n",
            "  Downloading https://files.pythonhosted.org/packages/78/38/e68b11daa5d613e3a91e4bf3da76c94ac9ee0d9cd515af9c1ab80d36f709/Flask_Cors-3.0.8-py2.py3-none-any.whl\n",
            "Requirement already satisfied: Six in /usr/local/lib/python3.6/dist-packages (from flask-cors) (1.12.0)\n",
            "Requirement already satisfied: Flask>=0.9 in /usr/local/lib/python3.6/dist-packages (from flask-cors) (1.1.2)\n",
            "Requirement already satisfied: Werkzeug>=0.15 in /usr/local/lib/python3.6/dist-packages (from Flask>=0.9->flask-cors) (1.0.1)\n",
            "Requirement already satisfied: Jinja2>=2.10.1 in /usr/local/lib/python3.6/dist-packages (from Flask>=0.9->flask-cors) (2.11.2)\n",
            "Requirement already satisfied: itsdangerous>=0.24 in /usr/local/lib/python3.6/dist-packages (from Flask>=0.9->flask-cors) (1.1.0)\n",
            "Requirement already satisfied: click>=5.1 in /usr/local/lib/python3.6/dist-packages (from Flask>=0.9->flask-cors) (7.1.2)\n",
            "Requirement already satisfied: MarkupSafe>=0.23 in /usr/local/lib/python3.6/dist-packages (from Jinja2>=2.10.1->Flask>=0.9->flask-cors) (1.1.1)\n",
            "Installing collected packages: flask-cors\n",
            "Successfully installed flask-cors-3.0.8\n"
          ],
          "name": "stdout"
        }
      ]
    },
    {
      "cell_type": "code",
      "metadata": {
        "id": "_BWPmwPZra4J",
        "colab_type": "code",
        "outputId": "7e13a922-5af4-4e94-d400-f6c6fe8dbb23",
        "colab": {
          "base_uri": "https://localhost:8080/",
          "height": 51
        }
      },
      "source": [
        "import dlib.cuda as cuda\n",
        "print(cuda.get_num_devices())\n",
        "import gc\n",
        "import os\n",
        "import pickle\n",
        "import time\n",
        "from pathlib import Path\n",
        "\n",
        "import cv2\n",
        "import face_recognition\n",
        "import numpy as np\n",
        "from PIL import Image\n",
        "from flask import Flask, jsonify, request, send_from_directory, Response\n",
        "from flask_cors import CORS\n",
        "from imutils import paths\n",
        "from flask_ngrok import run_with_ngrok\n",
        "from flask import Flask\n",
        "import json\n",
        "import requests\n",
        "from IPython.display import Image as show_image\n",
        "from google.colab import drive\n",
        "\n",
        "drive.mount('/content/drive')\n"
      ],
      "execution_count": 2,
      "outputs": [
        {
          "output_type": "stream",
          "text": [
            "1\n",
            "Drive already mounted at /content/drive; to attempt to forcibly remount, call drive.mount(\"/content/drive\", force_remount=True).\n"
          ],
          "name": "stdout"
        }
      ]
    },
    {
      "cell_type": "code",
      "metadata": {
        "id": "McwKoW3WUDPk",
        "colab_type": "code",
        "colab": {
          "base_uri": "https://localhost:8080/",
          "height": 34
        },
        "outputId": "7d6af932-64b6-4e34-faea-0b7330cab3a8"
      },
      "source": [
        "from google.colab import drive\n",
        "drive.mount('/content/drive')"
      ],
      "execution_count": 3,
      "outputs": [
        {
          "output_type": "stream",
          "text": [
            "Drive already mounted at /content/drive; to attempt to forcibly remount, call drive.mount(\"/content/drive\", force_remount=True).\n"
          ],
          "name": "stdout"
        }
      ]
    },
    {
      "cell_type": "code",
      "metadata": {
        "id": "sDz2ZkcBxfZS",
        "colab_type": "code",
        "outputId": "f274a68c-29a8-43b3-dc6a-499bc54b4c6d",
        "colab": {
          "base_uri": "https://localhost:8080/",
          "height": 204
        }
      },
      "source": [
        "!ls \"/content/drive/My Drive/FaceRec Project/dataset\"\n",
        "!ls \"/content/drive/My Drive/FaceRec Project/results\""
      ],
      "execution_count": 4,
      "outputs": [
        {
          "output_type": "stream",
          "text": [
            " Achir\t      Assimi\t   Bourase   Ghomari\t   Khattach    Redouani\n",
            " Ahriz\t      Atibi\t   Chafi     Habil\t   Lablaoui    Sabar\n",
            "'Ait Alla'   'Ayman NC'    Chihab    Haddadi\t   Meslouhi    Sakhi\n",
            "'Ait Daoud'   BabaKhouya   Chihi    'Haj Sallem'   Ouftou      Youssfi\n",
            " Amzil\t      Badaoui\t   Dadi      Hamman\t   Oulahyane   Zedouti\n",
            " Annan\t      Benmousa\t   Faiq      KhaifAllah    Ounjim\n",
            " Anssari      Berrada\t   Geuddi    Kharazi\t   rat\n",
            "1591216617.2455087.jpg\t1591217238.2081256.jpg\t1591221550.7420495.jpg\n",
            "1591216823.0088308.jpg\t1591217853.4258227.jpg\t1591223328.4779892.jpg\n",
            "1591216984.4768505.jpg\t1591221268.2724173.jpg\t1591223398.448467.jpg\n",
            "1591217192.7457218.jpg\t1591221506.0897892.jpg\n"
          ],
          "name": "stdout"
        }
      ]
    },
    {
      "cell_type": "code",
      "metadata": {
        "id": "Gf-I8texr5n4",
        "colab_type": "code",
        "colab": {}
      },
      "source": [
        "ALLOWED_EXTENSIONS = {'png', 'jpg', 'jpeg', 'gif'}\n",
        "data_set_path=\"/content/drive/My Drive/FaceRec Project/dataset\"\n",
        "results_path=\"/content/drive/My Drive/FaceRec Project/results\"\n",
        "encodings_path=\"/content/drive/My Drive/FaceRec Project/encodings.pickle\"\n",
        "public_url = None\n",
        "app = Flask(__name__, static_url_path='')\n",
        "CORS(app)\n",
        "\n",
        "run_with_ngrok(app)\n",
        "data = {}\n",
        "data_load_time = 0.0\n",
        "number_of_requests = 0\n"
      ],
      "execution_count": 0,
      "outputs": []
    },
    {
      "cell_type": "code",
      "metadata": {
        "id": "9MFvg7AzscPc",
        "colab_type": "code",
        "colab": {}
      },
      "source": [
        "@app.route('/uploads/<path:path>')\n",
        "def download_file(path):\n",
        "    return send_from_directory(data_set_path, path)\n",
        "\n",
        "\n",
        "@app.route('/results/<path:path>')\n",
        "def download_results_image(path):\n",
        "    return send_from_directory(results_path, path)\n",
        "@app.before_first_request\n",
        "def get_ngrok_url():\n",
        "  global public_url\n",
        "  url = \"http://localhost:4040/api/tunnels\"\n",
        "  res = requests.get(url)\n",
        "  res_unicode = res.content.decode(\"utf-8\")\n",
        "  res_json = json.loads(res_unicode)\n",
        "  \n",
        "  public_url = res_json[\"tunnels\"][1][\"public_url\"]+\"/\"\n",
        "  return res_json[\"tunnels\"][1][\"public_url\"]+\"/\"\n",
        "\n",
        "def load_global_data():\n",
        "  global data\n",
        "  global data_load_time\n",
        "  start_time = time.time()\n",
        "  print(\"[INFO] loading data\")\n",
        "  data = pickle.loads(open(encodings_path, \"rb\").read())\n",
        "  data_load_time = time.time() - start_time\n",
        "  print(f\"[INFO] Done loading data\")\n",
        "\n",
        "\n",
        "def allowed_file(filename):\n",
        "  return '.' in filename and \\\n",
        "        filename.rsplit('.', 1)[1].lower() in ALLOWED_EXTENSIONS\n"
      ],
      "execution_count": 0,
      "outputs": []
    },
    {
      "cell_type": "code",
      "metadata": {
        "id": "5nYi_qPUpRf9",
        "colab_type": "code",
        "colab": {}
      },
      "source": [
        "\n",
        "\n",
        "@app.route('/upload_images', methods=['POST'])\n",
        "def upload_file():\n",
        "    username = request.form.get('username') or \"default\"\n",
        "    if request.method == 'POST' and 'files' in request.files:\n",
        "        link_list = []\n",
        "        try:\n",
        "            for file in request.files.getlist('files'):\n",
        "                if file and allowed_file(file.filename):\n",
        "                    base_path = os.path.join(data_set_path, username)\n",
        "                    file_name = f\"{username}_{time.time()}{file.filename}\"\n",
        "                    Path(base_path).mkdir(parents=True, exist_ok=True)\n",
        "                    full_path = os.path.join(base_path, file_name)\n",
        "                    file.save(full_path)\n",
        "                    link_list.append(f\"{public_url}{username}/{file_name}\")\n",
        "        except Exception as _:\n",
        "            pass\n",
        "        return jsonify({\"file_path\": link_list})\n",
        "\n",
        "@app.route('/facial_recognition', methods=['GET', 'POST'])\n",
        "def upload_image():\n",
        "    # Check if a valid image file was uploaded\n",
        "    if request.method == 'POST':\n",
        "        if 'file' not in request.files:\n",
        "            return Response(\n",
        "                \"No image uploaded!\",\n",
        "                status=404\n",
        "            )\n",
        "\n",
        "        file = request.files['file']\n",
        "\n",
        "        if file.filename == '':\n",
        "            return Response(\"Image error!\", status=415)\n",
        "\n",
        "        if file and allowed_file(file.filename):\n",
        "            # The image file seems valid! Detect faces and return the result.\n",
        "            return detect_faces_in_image(file)\n",
        "\n",
        "    # If no valid image file was uploaded, show the file upload form:\n",
        "    return '''\n",
        "    <!doctype html>\n",
        "    <title>Is this a picture of X?</title>\n",
        "    <h1>Upload a picture !</h1>\n",
        "    <form method=\"POST\" enctype=\"multipart/form-data\">\n",
        "      <input type=\"file\" name=\"file\">\n",
        "      <input type=\"submit\" value=\"Upload\">\n",
        "    </form>\n",
        "    '''\n",
        "\n",
        "\n",
        "@app.route('/faces_encoding', methods=['GET', 'POST'])\n",
        "def faces_encoding():\n",
        "    successful = True\n",
        "    error_message = None\n",
        "\n",
        "    start_time = time.time()\n",
        "    try:\n",
        "        print(\"[INFO] quantifying faces...\")\n",
        "        # Example of output ['dataset\\\\anc\\\\Nait Cherif.jpg',...]\n",
        "        imagePaths = list(paths.list_images(data_set_path))\n",
        "        print(imagePaths)\n",
        "        # initialize the list of known encodings and known names\n",
        "        # print(imagePaths)\n",
        "        knownEncodings = []\n",
        "        knownNames = []\n",
        "\n",
        "        for (i, imagePath) in enumerate(imagePaths):\n",
        "            # extract the person name from the image path\n",
        "            print(f\"[INFO] processing image {i + 1}/{len(imagePaths)}\")\n",
        "            name = imagePath.split(os.path.sep)[-2]\n",
        "            # load the input image and convert it from BGR (OpenCV ordering)\n",
        "            # to dlib ordering (RGB)\n",
        "            image = cv2.imread(imagePath)\n",
        "            height, width, _ = image.shape\n",
        "            rgb = cv2.cvtColor(image, cv2.COLOR_BGR2RGB)\n",
        "\n",
        "            # detect the (x, y)-coordinates of the bounding boxes\n",
        "            # corresponding to each face in the input image\n",
        "            boxes = face_recognition.face_locations(rgb, model=\"cnn\")\n",
        "            # compute the facial embedding for the face\n",
        "            encodings = face_recognition.face_encodings(rgb, boxes)\n",
        "            # loop over the encodings\n",
        "            for encoding in encodings:\n",
        "                # add each encoding + name to our set of known names and\n",
        "                # encodings\n",
        "                knownEncodings.append(encoding)\n",
        "                knownNames.append(name)\n",
        "\n",
        "        # dump the facial encodings + names to disk\n",
        "        print(\"[INFO] serializing encodings...\")\n",
        "        i_data = {\"encodings\": knownEncodings, \"names\": knownNames}\n",
        "        with open(encodings_path, \"wb\") as f:\n",
        "            f.write(pickle.dumps(i_data))\n",
        "    except Exception as e:\n",
        "        successful = False\n",
        "        error_message = e\n",
        "        print(e)\n",
        "    finally:\n",
        "        return jsonify({\n",
        "            \"successful\": successful,\n",
        "            \"error_message\": str(error_message),\n",
        "            \"time_to_complete\": time.time() - start_time\n",
        "        })\n",
        "\n",
        "\n",
        "def detect_faces_in_image(file_stream):\n",
        "    load_global_data()\n",
        "    start_time = time.time()\n",
        "    print(\"[INFO] recognizing faces...\")\n",
        "    # Load the uploaded image file\n",
        "    original_img = Image.open(file_stream).convert('RGB')\n",
        "    img = np.array(original_img)\n",
        "    boxes = face_recognition.face_locations(img, model=\"cnn\")\n",
        "    encodings = face_recognition.face_encodings(img, boxes)\n",
        "    # Get face encodings for any faces in the uploaded image\n",
        "    names = []\n",
        "\n",
        "    for encoding in encodings:\n",
        "        global data\n",
        "        matches = face_recognition.compare_faces(\n",
        "            data[\"encodings\"], encoding, tolerance=0.5)\n",
        "        name = \"Unknown\"\n",
        "        if True in matches:\n",
        "            # find the indexes of all matched faces then initialize a\n",
        "            # dictionary to count the total number of times each face\n",
        "            # was matched\n",
        "            matchedIdxs = [i for (i, b) in enumerate(matches) if b]\n",
        "            counts = {}\n",
        "            # loop over the matched indexes and maintain a count for\n",
        "            # each recognized face\n",
        "            for i in matchedIdxs:\n",
        "                name = data[\"names\"][i]\n",
        "                counts[name] = counts.get(name, 0) + 1\n",
        "            # determine the recognized face with the largest number of\n",
        "            # votes (note: in the event of an unlikely tie Python will\n",
        "            # select first entry in the dictionary)\n",
        "            name = max(counts, key=counts.get)\n",
        "            print(\"[INFO]counts\", counts)\n",
        "            # update the list of names\n",
        "        names.append(name)\n",
        "    image = cv2.cvtColor(img, cv2.COLOR_RGB2BGR)\n",
        "    for (top, right, bottom, left), name in zip(boxes, names):\n",
        "        # Draw a box around the face\n",
        "        cv2.rectangle(image, (left - 20, top - 20),\n",
        "                      (right + 20, bottom + 20), (255, 0, 0), 2)\n",
        "\n",
        "        # Draw a label with a name below the face\n",
        "        cv2.rectangle(image, (left - 20, bottom),\n",
        "                      (right + 20, bottom + 20), (255, 0, 0), cv2.FILLED)\n",
        "        font = cv2.FONT_HERSHEY_DUPLEX\n",
        "        cv2.putText(image, name, (left - 20, bottom + 15),\n",
        "                    font, 0.7, (255, 255, 255))\n",
        "\n",
        "    # show the output image\n",
        "    file_name = f\"{time.time()}.jpg\"\n",
        "    file_path = f\"{results_path}/{file_name}\"\n",
        "    cv2.imwrite(file_path, image)\n",
        "    show_image(file_path)\n",
        "    result = {\n",
        "        \"results_file_url\": f\"{public_url}results/{file_name}\"\n",
        "        \"faces_found_in_image\": names,\n",
        "        \"faces_load_time\": data_load_time,\n",
        "        \"data_rec_time\": time.time() - start_time,\n",
        "    }\n",
        "    return jsonify(result)\n"
      ],
      "execution_count": 0,
      "outputs": []
    },
    {
      "cell_type": "code",
      "metadata": {
        "id": "7-CvQhiKtfsv",
        "colab_type": "code",
        "outputId": "4e84ccc2-bce2-4168-c603-cf4dc74d4b5a",
        "colab": {
          "base_uri": "https://localhost:8080/",
          "height": 1000
        }
      },
      "source": [
        "if __name__ == \"__main__\":\n",
        "    # TODO : fix aout of memory clean code\n",
        "    app.run()\n"
      ],
      "execution_count": 0,
      "outputs": [
        {
          "output_type": "stream",
          "text": [
            " * Serving Flask app \"__main__\" (lazy loading)\n",
            " * Environment: production\n",
            "\u001b[31m   WARNING: This is a development server. Do not use it in a production deployment.\u001b[0m\n",
            "\u001b[2m   Use a production WSGI server instead.\u001b[0m\n",
            " * Debug mode: off\n"
          ],
          "name": "stdout"
        },
        {
          "output_type": "stream",
          "text": [
            " * Running on http://127.0.0.1:5000/ (Press CTRL+C to quit)\n"
          ],
          "name": "stderr"
        },
        {
          "output_type": "stream",
          "text": [
            " * Running on http://7129947fd486.ngrok.io\n",
            " * Traffic stats available on http://127.0.0.1:4040\n"
          ],
          "name": "stdout"
        },
        {
          "output_type": "stream",
          "text": [
            "127.0.0.1 - - [03/Jun/2020 22:37:39] \"\u001b[33mGET / HTTP/1.1\u001b[0m\" 404 -\n",
            "127.0.0.1 - - [03/Jun/2020 22:37:39] \"\u001b[33mGET /robots.txt HTTP/1.1\u001b[0m\" 404 -\n",
            "127.0.0.1 - - [03/Jun/2020 22:37:41] \"\u001b[33mGET /favicon.ico HTTP/1.1\u001b[0m\" 404 -\n",
            "127.0.0.1 - - [03/Jun/2020 22:38:03] \"\u001b[37mGET /facial_recognition HTTP/1.1\u001b[0m\" 200 -\n",
            "127.0.0.1 - - [03/Jun/2020 22:38:10] \"\u001b[37mGET /facial_recognition HTTP/1.1\u001b[0m\" 200 -\n",
            "127.0.0.1 - - [03/Jun/2020 22:38:11] \"\u001b[33mGET /favicon.ico HTTP/1.1\u001b[0m\" 404 -\n"
          ],
          "name": "stderr"
        },
        {
          "output_type": "stream",
          "text": [
            "[INFO] loading data\n",
            "[INFO] Done loading data\n",
            "[INFO] recognizing faces...\n"
          ],
          "name": "stdout"
        },
        {
          "output_type": "stream",
          "text": [
            "[2020-06-03 22:39:18,053] ERROR in app: Exception on /facial_recognition [POST]\n",
            "Traceback (most recent call last):\n",
            "  File \"/usr/local/lib/python3.6/dist-packages/flask/app.py\", line 2447, in wsgi_app\n",
            "    response = self.full_dispatch_request()\n",
            "  File \"/usr/local/lib/python3.6/dist-packages/flask/app.py\", line 1952, in full_dispatch_request\n",
            "    rv = self.handle_user_exception(e)\n",
            "  File \"/usr/local/lib/python3.6/dist-packages/flask_cors/extension.py\", line 161, in wrapped_function\n",
            "    return cors_after_request(app.make_response(f(*args, **kwargs)))\n",
            "  File \"/usr/local/lib/python3.6/dist-packages/flask/app.py\", line 1821, in handle_user_exception\n",
            "    reraise(exc_type, exc_value, tb)\n",
            "  File \"/usr/local/lib/python3.6/dist-packages/flask/_compat.py\", line 39, in reraise\n",
            "    raise value\n",
            "  File \"/usr/local/lib/python3.6/dist-packages/flask/app.py\", line 1950, in full_dispatch_request\n",
            "    rv = self.dispatch_request()\n",
            "  File \"/usr/local/lib/python3.6/dist-packages/flask/app.py\", line 1936, in dispatch_request\n",
            "    return self.view_functions[rule.endpoint](**req.view_args)\n",
            "  File \"<ipython-input-7-3d67e504814a>\", line 38, in upload_image\n",
            "    return detect_faces_in_image(file)\n",
            "  File \"<ipython-input-7-3d67e504814a>\", line 114, in detect_faces_in_image\n",
            "    boxes = face_recognition.face_locations(img, model=\"cnn\")\n",
            "  File \"/usr/local/lib/python3.6/dist-packages/face_recognition/api.py\", line 119, in face_locations\n",
            "    return [_trim_css_to_bounds(_rect_to_css(face.rect), img.shape) for face in _raw_face_locations(img, number_of_times_to_upsample, \"cnn\")]\n",
            "  File \"/usr/local/lib/python3.6/dist-packages/face_recognition/api.py\", line 103, in _raw_face_locations\n",
            "    return cnn_face_detector(img, number_of_times_to_upsample)\n",
            "RuntimeError: Error while calling cudaMalloc(&data, n) in file /tmp/pip-wheel-66glv9rf/dlib/dlib/cuda/cuda_data_ptr.cpp:58. code: 2, reason: out of memory\n",
            "127.0.0.1 - - [03/Jun/2020 22:39:18] \"\u001b[35m\u001b[1mPOST /facial_recognition HTTP/1.1\u001b[0m\" 500 -\n",
            "127.0.0.1 - - [03/Jun/2020 22:40:19] \"\u001b[37mGET /facial_recognition HTTP/1.1\u001b[0m\" 200 -\n"
          ],
          "name": "stderr"
        },
        {
          "output_type": "stream",
          "text": [
            "[INFO] loading data\n",
            "[INFO] Done loading data\n",
            "[INFO] recognizing faces...\n"
          ],
          "name": "stdout"
        },
        {
          "output_type": "stream",
          "text": [
            "127.0.0.1 - - [03/Jun/2020 22:40:35] \"\u001b[37mPOST /facial_recognition HTTP/1.1\u001b[0m\" 200 -\n"
          ],
          "name": "stderr"
        },
        {
          "output_type": "stream",
          "text": [
            "[INFO]counts {'Badaoui': 4}\n"
          ],
          "name": "stdout"
        },
        {
          "output_type": "stream",
          "text": [
            "127.0.0.1 - - [03/Jun/2020 22:42:26] \"\u001b[37mGET /facial_recognition HTTP/1.1\u001b[0m\" 200 -\n"
          ],
          "name": "stderr"
        },
        {
          "output_type": "stream",
          "text": [
            "[INFO] loading data\n",
            "[INFO] Done loading data\n",
            "[INFO] recognizing faces...\n"
          ],
          "name": "stdout"
        },
        {
          "output_type": "stream",
          "text": [
            "127.0.0.1 - - [03/Jun/2020 22:42:40] \"\u001b[37mPOST /facial_recognition HTTP/1.1\u001b[0m\" 200 -\n"
          ],
          "name": "stderr"
        },
        {
          "output_type": "stream",
          "text": [
            "[INFO]counts {'Chafi': 3}\n",
            "[INFO]counts {'Zedouti': 3}\n",
            "[INFO]counts {'Ait Daoud': 3}\n",
            "[INFO]counts {'Oulahyane': 1, 'Khattach': 3}\n",
            "[INFO]counts {'Bourase': 2, 'BabaKhouya': 5}\n",
            "[INFO]counts {'Assimi': 5}\n",
            "[INFO]counts {'Oulahyane': 4}\n",
            "[INFO]counts {'Faiq': 4}\n",
            "[INFO]counts {'Bourase': 4}\n",
            "[INFO]counts {'Chihi': 4}\n",
            "[INFO]counts {'Dadi': 5}\n",
            "[INFO]counts {'Habil': 3}\n",
            "[INFO]counts {'Haddadi': 5}\n",
            "[INFO]counts {'KhaifAllah': 3}\n",
            "[INFO]counts {'Ghomari': 2}\n",
            "[INFO]counts {'Ounjim': 3}\n"
          ],
          "name": "stdout"
        },
        {
          "output_type": "stream",
          "text": [
            "127.0.0.1 - - [03/Jun/2020 22:42:48] \"\u001b[37mGET /results/1591224160.55827.jpg HTTP/1.1\u001b[0m\" 200 -\n",
            "127.0.0.1 - - [03/Jun/2020 22:43:56] \"\u001b[37mGET /facial_recognition HTTP/1.1\u001b[0m\" 200 -\n"
          ],
          "name": "stderr"
        },
        {
          "output_type": "stream",
          "text": [
            "[INFO] loading data\n",
            "[INFO] Done loading data\n",
            "[INFO] recognizing faces...\n"
          ],
          "name": "stdout"
        },
        {
          "output_type": "stream",
          "text": [
            "127.0.0.1 - - [03/Jun/2020 22:44:26] \"\u001b[37mPOST /facial_recognition HTTP/1.1\u001b[0m\" 200 -\n"
          ],
          "name": "stderr"
        },
        {
          "output_type": "stream",
          "text": [
            "[INFO]counts {'Ouftou': 4, 'Bourase': 1, 'BabaKhouya': 2}\n"
          ],
          "name": "stdout"
        },
        {
          "output_type": "stream",
          "text": [
            "127.0.0.1 - - [03/Jun/2020 22:44:29] \"\u001b[37mGET /facial_recognition HTTP/1.1\u001b[0m\" 200 -\n",
            "127.0.0.1 - - [03/Jun/2020 22:44:37] \"\u001b[37mGET /results/1591224266.430754.jpg HTTP/1.1\u001b[0m\" 200 -\n"
          ],
          "name": "stderr"
        },
        {
          "output_type": "stream",
          "text": [
            "[INFO] loading data\n",
            "[INFO] Done loading data\n",
            "[INFO] recognizing faces...\n"
          ],
          "name": "stdout"
        },
        {
          "output_type": "stream",
          "text": [
            "127.0.0.1 - - [03/Jun/2020 22:53:20] \"\u001b[37mPOST /facial_recognition HTTP/1.1\u001b[0m\" 200 -\n",
            "127.0.0.1 - - [03/Jun/2020 22:53:23] \"\u001b[37mGET /results/1591224800.1201506.jpg HTTP/1.1\u001b[0m\" 200 -\n"
          ],
          "name": "stderr"
        }
      ]
    },
    {
      "cell_type": "code",
      "metadata": {
        "id": "ukWOF1lxnYYF",
        "colab_type": "code",
        "colab": {}
      },
      "source": [
        ""
      ],
      "execution_count": 0,
      "outputs": []
    }
  ]
}